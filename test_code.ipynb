{
 "cells": [
  {
   "cell_type": "code",
   "execution_count": 1,
   "metadata": {},
   "outputs": [],
   "source": [
    "from data_utils import load_MNIST_data, load_EMNIST_data, \\\n",
    "generate_partial_data, generate_bal_private_data\n",
    "from Neural_Networks import cnn_2layer_fc_model, cnn_3layer_fc_model\n",
    "\n",
    "def train_models(models, X_train, y_train, X_test, y_test, \n",
    "                 min_delta = 0.001, patience = 3, is_show = False, \n",
    "                 save_dir = \"\", save_names = None,\n",
    "                 **training_params):\n",
    "    '''\n",
    "    Train an array of models on the same dataset. \n",
    "    We use early termination to speed up training. \n",
    "    '''\n",
    "    \n",
    "    resulting_val_acc = []\n",
    "    for n, model in enumerate(models):\n",
    "        print(\"Training model \", n)\n",
    "        model.fit(X_train, y_train, \n",
    "                  validation_data = [X_test, y_test],\n",
    "                  callbacks=[EarlyStopping(monitor='val_acc', min_delta=min_delta, patience=patience)],\n",
    "                 **training_params\n",
    "                 )\n",
    "        \n",
    "        resulting_val_acc.append(model.history.history[\"val_acc\"][-1])\n",
    "        if save_names is None:\n",
    "            file_name = save_dir + \"model_{0}\".format(n) + \".h5\"\n",
    "        else:\n",
    "            file_name = save_dir + name[n] + \".h5\"\n",
    "        model.save(file_name)\n",
    "    \n",
    "    if is_show:\n",
    "        print(\"pre-train accuracy: \")\n",
    "        print(resulting_val_acc)\n",
    "\n",
    "        \n",
    "models = {\"2_layer_CNN\": cnn_2layer_fc_model, \n",
    "          \"3_layer_CNN\": cnn_3layer_fc_model}        \n"
   ]
  },
  {
   "cell_type": "code",
   "execution_count": 5,
   "metadata": {},
   "outputs": [
    {
     "name": "stdout",
     "output_type": "stream",
     "text": [
      "[ 0.          0.84147098  0.90929743  0.14112001 -0.7568025  -0.95892427\n",
      " -0.2794155   0.6569866   0.98935825  0.41211849]\n"
     ]
    }
   ],
   "source": [
    "!python test.py"
   ]
  },
  {
   "cell_type": "code",
   "execution_count": null,
   "metadata": {},
   "outputs": [],
   "source": []
  }
 ],
 "metadata": {
  "kernelspec": {
   "display_name": "Python 3",
   "language": "python",
   "name": "python3"
  },
  "language_info": {
   "codemirror_mode": {
    "name": "ipython",
    "version": 3
   },
   "file_extension": ".py",
   "mimetype": "text/x-python",
   "name": "python",
   "nbconvert_exporter": "python",
   "pygments_lexer": "ipython3",
   "version": "3.6.8"
  }
 },
 "nbformat": 4,
 "nbformat_minor": 4
}
